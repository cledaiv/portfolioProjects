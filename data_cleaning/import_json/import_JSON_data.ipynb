{
 "cells": [
  {
   "cell_type": "markdown",
   "id": "2a465152",
   "metadata": {},
   "source": [
    "## Importing simple json data"
   ]
  },
  {
   "cell_type": "code",
   "execution_count": 1,
   "id": "ffe1d56c",
   "metadata": {},
   "outputs": [],
   "source": [
    "import pandas as pd\n",
    "import numpy as np\n",
    "import json\n",
    "import pprint\n",
    "from collections import Counter"
   ]
  },
  {
   "cell_type": "code",
   "execution_count": 3,
   "id": "c692162c",
   "metadata": {},
   "outputs": [
    {
     "data": {
      "text/plain": [
       "60000"
      ]
     },
     "execution_count": 3,
     "metadata": {},
     "output_type": "execute_result"
    }
   ],
   "source": [
    "with open('data/allcandidatenewssample.json') as f:\n",
    "    candidatenews = json.load(f)\n",
    "    \n",
    "len(candidatenews)"
   ]
  },
  {
   "cell_type": "code",
   "execution_count": 4,
   "id": "c0494b5f",
   "metadata": {},
   "outputs": [
    {
     "name": "stdout",
     "output_type": "stream",
     "text": [
      "[{'date': '2019-12-25 10:00:00',\n",
      "  'domain': 'www.nbcnews.com',\n",
      "  'panel_position': 1,\n",
      "  'query': 'Michael Bloomberg',\n",
      "  'source': 'NBC News',\n",
      "  'story_position': 6,\n",
      "  'time': '18 hours ago',\n",
      "  'title': 'Bloomberg cuts ties with company using prison inmates to make '\n",
      "           'campaign calls',\n",
      "  'url': 'https://www.nbcnews.com/politics/2020-election/bloomberg-cuts-ties-company-using-prison-inmates-make-campaign-calls-n1106971'},\n",
      " {'date': '2019-11-09 08:00:00',\n",
      "  'domain': 'www.townandcountrymag.com',\n",
      "  'panel_position': 1,\n",
      "  'query': 'Amy Klobuchar',\n",
      "  'source': 'Town & Country Magazine',\n",
      "  'story_position': 3,\n",
      "  'time': '18 hours ago',\n",
      "  'title': \"Democratic Candidates React to Michael Bloomberg's Potential Run\",\n",
      "  'url': 'https://www.townandcountrymag.com/society/politics/a29739854/michael-bloomberg-democratic-candidates-campaign-reactions/'}]\n"
     ]
    }
   ],
   "source": [
    "pprint.pprint(candidatenews[0:2])"
   ]
  },
  {
   "cell_type": "code",
   "execution_count": 7,
   "id": "089eaf40",
   "metadata": {},
   "outputs": [
    {
     "name": "stdout",
     "output_type": "stream",
     "text": [
      "'NBC News'\n"
     ]
    }
   ],
   "source": [
    "pprint.pprint(candidatenews[0]['source'])"
   ]
  },
  {
   "cell_type": "code",
   "execution_count": 9,
   "id": "2a8c8644",
   "metadata": {},
   "outputs": [
    {
     "data": {
      "text/plain": [
       "Counter({9: 57202, 2: 2382, 10: 416})"
      ]
     },
     "execution_count": 9,
     "metadata": {},
     "output_type": "execute_result"
    }
   ],
   "source": [
    "# Check for difference in the structure of the dictionaries\n",
    "\n",
    "Counter([len(item) for item in candidatenews])"
   ]
  },
  {
   "cell_type": "code",
   "execution_count": 10,
   "id": "6fae9629",
   "metadata": {},
   "outputs": [
    {
     "name": "stdout",
     "output_type": "stream",
     "text": [
      "{'date': '2019-09-11 18:00:00', 'reason': 'Not collected'}\n"
     ]
    }
   ],
   "source": [
    "# Check at few of the dictionaries with almost no data (those with just 2 keys) before removing them.\n",
    "\n",
    "pprint.pprint(next(item for item in candidatenews if len(item)<9))"
   ]
  },
  {
   "cell_type": "code",
   "execution_count": 11,
   "id": "401f47da",
   "metadata": {},
   "outputs": [
    {
     "name": "stdout",
     "output_type": "stream",
     "text": [
      "{'category': 'Satire',\n",
      " 'date': '2019-08-21 04:00:00',\n",
      " 'domain': 'politics.theonion.com',\n",
      " 'panel_position': 1,\n",
      " 'query': 'John Hickenlooper',\n",
      " 'source': 'Politics | The Onion',\n",
      " 'story_position': 8,\n",
      " 'time': '4 days ago',\n",
      " 'title': '‘And Then There Were 23,’ Says Wayne Messam Crossing Out '\n",
      "          'Hickenlooper Photo \\n'\n",
      "          'In Elaborate Grid Of Rivals',\n",
      " 'url': 'https://politics.theonion.com/and-then-there-were-23-says-wayne-messam-crossing-ou-1837311060'}\n"
     ]
    }
   ],
   "source": [
    "pprint.pprint(next(item for item in candidatenews if len(item)>9))"
   ]
  },
  {
   "cell_type": "code",
   "execution_count": 12,
   "id": "f60db0be",
   "metadata": {},
   "outputs": [
    {
     "name": "stdout",
     "output_type": "stream",
     "text": [
      "[{'date': '2019-09-11 18:00:00', 'reason': 'Not collected'},\n",
      " {'date': '2019-07-24 00:00:00', 'reason': 'No Top stories'}]\n"
     ]
    }
   ],
   "source": [
    "pprint.pprint([item for item in candidatenews if len(item)==2][0:2])"
   ]
  },
  {
   "cell_type": "code",
   "execution_count": 14,
   "id": "9de90bfc",
   "metadata": {},
   "outputs": [
    {
     "data": {
      "text/plain": [
       "57618"
      ]
     },
     "execution_count": 14,
     "metadata": {},
     "output_type": "execute_result"
    }
   ],
   "source": [
    "candidatenews = [item for item in candidatenews if len(item)>2]\n",
    "len(candidatenews)"
   ]
  },
  {
   "cell_type": "code",
   "execution_count": 15,
   "id": "9a6d3b6a",
   "metadata": {},
   "outputs": [
    {
     "data": {
      "text/plain": [
       "2732"
      ]
     },
     "execution_count": 15,
     "metadata": {},
     "output_type": "execute_result"
    }
   ],
   "source": [
    "# Generate count\n",
    "\n",
    "politico = [item for item in candidatenews if item['source'] == 'Politico']\n",
    "len(politico)"
   ]
  },
  {
   "cell_type": "code",
   "execution_count": 16,
   "id": "90e4e60d",
   "metadata": {},
   "outputs": [
    {
     "name": "stdout",
     "output_type": "stream",
     "text": [
      "[{'date': '2019-05-18 18:00:00',\n",
      "  'domain': 'www.politico.com',\n",
      "  'panel_position': 1,\n",
      "  'query': 'Marianne Williamson',\n",
      "  'source': 'Politico',\n",
      "  'story_position': 7,\n",
      "  'time': '1 week ago',\n",
      "  'title': 'Marianne Williamson reaches donor threshold for Dem debates',\n",
      "  'url': 'https://www.politico.com/story/2019/05/09/marianne-williamson-2020-election-1315133'},\n",
      " {'date': '2018-12-27 06:00:00',\n",
      "  'domain': 'www.politico.com',\n",
      "  'panel_position': 1,\n",
      "  'query': 'Julian Castro',\n",
      "  'source': 'Politico',\n",
      "  'story_position': 1,\n",
      "  'time': '1 hour ago',\n",
      "  'title': \"O'Rourke and Castro on collision course in Texas\",\n",
      "  'url': 'https://www.politico.com/story/2018/12/27/orourke-julian-castro-collision-texas-election-1073720'}]\n"
     ]
    }
   ],
   "source": [
    "pprint.pprint(politico[0:2])"
   ]
  },
  {
   "cell_type": "code",
   "execution_count": 17,
   "id": "ed7069be",
   "metadata": {},
   "outputs": [
    {
     "data": {
      "text/plain": [
       "list"
      ]
     },
     "execution_count": 17,
     "metadata": {},
     "output_type": "execute_result"
    }
   ],
   "source": [
    "# Get the source data and confirm  that it has the antipated length\n",
    "# Show the first few items in the new sources list.\n",
    "#Generate a count of news stories by source and display the 10 most popular sources.\n",
    "\n",
    "sources = [item.get('source') for item in candidatenews]\n",
    "type(sources)"
   ]
  },
  {
   "cell_type": "code",
   "execution_count": 18,
   "id": "386f3457",
   "metadata": {},
   "outputs": [
    {
     "data": {
      "text/plain": [
       "57618"
      ]
     },
     "execution_count": 18,
     "metadata": {},
     "output_type": "execute_result"
    }
   ],
   "source": [
    "len(sources)"
   ]
  },
  {
   "cell_type": "code",
   "execution_count": 19,
   "id": "2d91c3c4",
   "metadata": {},
   "outputs": [
    {
     "data": {
      "text/plain": [
       "['NBC News', 'Town & Country Magazine', 'TheHill', 'CNBC.com', 'Fox News']"
      ]
     },
     "execution_count": 19,
     "metadata": {},
     "output_type": "execute_result"
    }
   ],
   "source": [
    "sources[0:5]"
   ]
  },
  {
   "cell_type": "code",
   "execution_count": 20,
   "id": "894a645f",
   "metadata": {},
   "outputs": [
    {
     "name": "stdout",
     "output_type": "stream",
     "text": [
      "[('Fox News', 3530),\n",
      " ('CNN.com', 2750),\n",
      " ('Politico', 2732),\n",
      " ('TheHill', 2383),\n",
      " ('The New York Times', 1804),\n",
      " ('Washington Post', 1770),\n",
      " ('Washington Examiner', 1655),\n",
      " ('The Hill', 1342),\n",
      " ('New York Post', 1275),\n",
      " ('Vox', 941)]\n"
     ]
    }
   ],
   "source": [
    "pprint.pprint(Counter(sources).most_common(10))"
   ]
  },
  {
   "cell_type": "code",
   "execution_count": 21,
   "id": "f400bbbe",
   "metadata": {},
   "outputs": [
    {
     "name": "stdout",
     "output_type": "stream",
     "text": [
      "[('The Hill', 3725),\n",
      " ('Fox News', 3530),\n",
      " ('CNN.com', 2750),\n",
      " ('Politico', 2732),\n",
      " ('The New York Times', 1804),\n",
      " ('Washington Post', 1770),\n",
      " ('Washington Examiner', 1655),\n",
      " ('New York Post', 1275),\n",
      " ('Vox', 941),\n",
      " ('Breitbart', 799)]\n"
     ]
    }
   ],
   "source": [
    "# Fix the source values for the Hill which is the most frequent source for news stories\n",
    "for newsdict in candidatenews:\n",
    "    newsdict.update((k, 'The Hill') for k, v in newsdict.items() if k == \"source\" and v == \"TheHill\")\n",
    "    \n",
    "sources = [item.get('source') for item in candidatenews]\n",
    "pprint.pprint(Counter(sources).most_common(10))"
   ]
  },
  {
   "cell_type": "code",
   "execution_count": 24,
   "id": "241c1be2",
   "metadata": {},
   "outputs": [
    {
     "data": {
      "text/plain": [
       "title             object\n",
       "url               object\n",
       "source            object\n",
       "time              object\n",
       "date              object\n",
       "query             object\n",
       "story_position     int64\n",
       "panel_position    object\n",
       "domain            object\n",
       "category          object\n",
       "dtype: object"
      ]
     },
     "execution_count": 24,
     "metadata": {},
     "output_type": "execute_result"
    }
   ],
   "source": [
    "# Pass the JSON data to the pandas DataFrame\n",
    "# Convert the date column to a datetime data type\n",
    "\n",
    "candidatenewsdf = pd.DataFrame(candidatenews)\n",
    "candidatenewsdf.dtypes"
   ]
  },
  {
   "cell_type": "code",
   "execution_count": null,
   "id": "9a10d50b",
   "metadata": {},
   "outputs": [],
   "source": []
  }
 ],
 "metadata": {
  "kernelspec": {
   "display_name": "Python 3 (ipykernel)",
   "language": "python",
   "name": "python3"
  },
  "language_info": {
   "codemirror_mode": {
    "name": "ipython",
    "version": 3
   },
   "file_extension": ".py",
   "mimetype": "text/x-python",
   "name": "python",
   "nbconvert_exporter": "python",
   "pygments_lexer": "ipython3",
   "version": "3.10.12"
  }
 },
 "nbformat": 4,
 "nbformat_minor": 5
}
