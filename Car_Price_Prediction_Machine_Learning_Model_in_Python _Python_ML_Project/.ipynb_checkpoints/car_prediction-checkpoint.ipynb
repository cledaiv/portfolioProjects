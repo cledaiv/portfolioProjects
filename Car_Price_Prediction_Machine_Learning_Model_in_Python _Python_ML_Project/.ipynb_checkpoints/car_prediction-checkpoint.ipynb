{
 "cells": [
  {
   "cell_type": "markdown",
   "id": "15bbcbcd-8760-4afe-b20e-29e4e089286f",
   "metadata": {},
   "source": [
    "### Car Price Prediction Machine learning Model\n",
    "1) We add the Dataset with the car's features and the selling price\n",
    "2) Pre Processing => We going to check the null values, duplicate check\n",
    "3) Data Analysis => we discard unimportant columns from the dataset in order to improve the performance of the machine learning model. Then we split the dataset in two parts.First part input and second part output features\n",
    "4) Train test split => Once again we split the dataset into two parts(train dataset => 80%, test dataset => 20%)\n",
    "5) Linear regression machine model => we train the model with the training dataset after we test the dataset with the model\n",
    "6) When we statisfied with the predicted model we going to save it"
   ]
  },
  {
   "cell_type": "code",
   "execution_count": 4,
   "id": "d7401a4b-af73-4cf5-9f8a-3e995b5329e7",
   "metadata": {},
   "outputs": [],
   "source": [
    "import numpy as np\n",
    "import pandas as pd\n",
    "from sklearn.model_selection import train_test_split\n",
    "from sklearn.linear_model import LinearRegression\n"
   ]
  },
  {
   "cell_type": "code",
   "execution_count": null,
   "id": "2a6aa84f-daaa-4133-8859-49fcab89513f",
   "metadata": {},
   "outputs": [],
   "source": []
  }
 ],
 "metadata": {
  "kernelspec": {
   "display_name": "Python 3 (ipykernel)",
   "language": "python",
   "name": "python3"
  },
  "language_info": {
   "codemirror_mode": {
    "name": "ipython",
    "version": 3
   },
   "file_extension": ".py",
   "mimetype": "text/x-python",
   "name": "python",
   "nbconvert_exporter": "python",
   "pygments_lexer": "ipython3",
   "version": "3.12.4"
  }
 },
 "nbformat": 4,
 "nbformat_minor": 5
}
